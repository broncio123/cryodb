{
 "cells": [
  {
   "attachments": {},
   "cell_type": "markdown",
   "id": "b62095b0",
   "metadata": {},
   "source": [
    "# Get EMDB experimental annotations "
   ]
  },
  {
   "cell_type": "code",
   "execution_count": 29,
   "id": "3ccbaacd",
   "metadata": {},
   "outputs": [],
   "source": [
    "import os\n",
    "import requests\n",
    "import logging as logger\n",
    "from bs4 import BeautifulSoup\n",
    "from subprocess import Popen"
   ]
  },
  {
   "attachments": {},
   "cell_type": "markdown",
   "id": "cac48ebb",
   "metadata": {},
   "source": [
    "**NOTE** \n",
    "\n",
    "This doesn't work with EMDB! It produces no output.\n",
    "\n",
    "```python\n",
    "url = 'https://www.ebi.ac.uk/emdb/api/annotations/'\n",
    "reqs = requests.get(url)\n",
    "soup = BeautifulSoup(reqs.text, 'html.parser')\n",
    " \n",
    "urls = []\n",
    "for link in soup.find_all('a'):\n",
    "    print(link.get('href'))\n",
    "```    "
   ]
  },
  {
   "cell_type": "code",
   "execution_count": 31,
   "id": "96bef31a",
   "metadata": {},
   "outputs": [],
   "source": [
    "myurl='https://www.ebi.ac.uk/emdb/api/entry/experiment/EMD-2984'\n",
    "resp = requests.get(url=myurl)\n",
    "data = resp.json()"
   ]
  },
  {
   "cell_type": "code",
   "execution_count": 43,
   "id": "8da76bd3",
   "metadata": {},
   "outputs": [
    {
     "data": {
      "text/plain": [
       "dict_keys(['structure_determination_id', 'method', 'aggregation_state', 'specimen_preparation_list', 'microscopy_list', 'image_processing', 'instance_type'])"
      ]
     },
     "execution_count": 43,
     "metadata": {},
     "output_type": "execute_result"
    }
   ],
   "source": [
    "data['structure_determination_list']['structure_determination'][0].keys()"
   ]
  },
  {
   "attachments": {},
   "cell_type": "markdown",
   "id": "b9371662",
   "metadata": {},
   "source": [
    "**NOTES**\n",
    "\n",
    "To gather all the data I need to compile a list of the currently available non-obsolete entries in EMDB\n",
    "* Option 1: Take a for loop running serially up to a high number. IDs take a 4-digit numeric format only and seem to run serially, except for a few which I suspect are obsolete. \n",
    "* Option 2: Compile a list from here https://files.rcsb.org/pub/emdb/structures/ . Try `ftplib`?"
   ]
  },
  {
   "attachments": {},
   "cell_type": "markdown",
   "id": "97ad360f",
   "metadata": {},
   "source": [
    "Ruben's functions. Taking bits and pieces, but mostly ideas."
   ]
  },
  {
   "cell_type": "code",
   "execution_count": null,
   "id": "06b6c390",
   "metadata": {},
   "outputs": [],
   "source": [
    "@retry_decorator\n",
    "def retrieveInfoFromEMDB(emdbId):\n",
    "    resp = requests.get(url=EMDB_INFO_QUERY % emdbId)\n",
    "    if resp.status_code != 200:\n",
    "        logger.error(\"request status %d\" % (resp.status_code))\n",
    "        raise DownloadException(\"Error, retrieveInfoFromEMDB request status %d\" % (resp.status_code))\n",
    "    else:\n",
    "        data = resp.json()[emdbId][0]\n",
    "        try:\n",
    "            pdbs = data[\"deposition\"][\"fitted_pdb_id_list\"]\n",
    "            pdbs = [elem.lower() for elem in pdbs[\"pdb_id\"]]\n",
    "        except KeyError:\n",
    "            try:\n",
    "                pdbs = [elem[\"pdb_id_list\"][\"pdb_id\"][0].lower() for elem in data[\"experiment\"][\"fitting\"]]\n",
    "            except KeyError:\n",
    "                logger.error(\"%s has not associated pdb\" % (emdbId))\n",
    "                raise DownloadException(\"Error, %s has not associated pdb\" % (emdbId))\n",
    "\n",
    "        voxel_size = data[\"map\"][\"pixel_spacing\"][\"y\"][\"value\"]\n",
    "        max_val_vox = data[\"map\"][\"statistics\"][\"maximum\"]\n",
    "        grid_shape = [int(elem) for elem in data[\"map\"][\"dimensions\"].values()]\n",
    "\n",
    "        axis_order = data[\"map\"][\"axis_order\"]\n",
    "        axis_order = [axis_order[\"slow\"], axis_order[\"medium\"], axis_order[\"fast\"]]\n",
    "        coords_origin = data[\"map\"][\"origin\"]\n",
    "        coords_origin = [coords_origin[\"section\"], coords_origin[\"row\"],\n",
    "                         coords_origin[\"column\"]]  # order slow, medium, fast\n",
    "        try:\n",
    "            resolution = float(data[\"processing\"][\"reconstruction\"][\"resolution_by_author\"])\n",
    "        except KeyError:\n",
    "            raise DownloadException(\"Error, no resolution available for %s \" % (emdbId))\n",
    "\n",
    "        date = data[\"deposition\"][\"deposition_date\"]\n",
    "        info = {\"voxel_size\": voxel_size, \"max_val_vox\": max_val_vox, \"grid_shape\": grid_shape,\n",
    "                \"coords_origin\": coords_origin,\n",
    "                \"resolution\": resolution, \"pdbs\": pdbs, \"axis_order\": axis_order, \"date\": date}\n",
    "        if resolution > config.WORSE_RESOLUTION_ALLOWED:\n",
    "            msg = \"Error downloading %s. Too bad resolution:\\n\" % (emdbId,)\n",
    "            logger.error(msg)\n",
    "            raise DownloadException(msg)\n",
    "            # writeErrorFile(emdbId, \"Error downloading %s. Too bad resolution:\\n\" % (emdbId,), info, pdbId=\"\")\n",
    "\n",
    "        if len(set(grid_shape)) > 1:\n",
    "            logger.error(f\"Error downloading {emdbId}: Just cubic volumes are considered\")\n",
    "            raise DownloadException(\"Error downloading %s. Just cubic volumes are considered:\\n\" % (emdbId,))\n",
    "        return info"
   ]
  },
  {
   "cell_type": "code",
   "execution_count": null,
   "id": "eb684dcd",
   "metadata": {},
   "outputs": [],
   "source": [
    "@retry_decorator\n",
    "def downloadEMDB(emdbId, mapsOutDir):\n",
    "    outName = os.path.join(mapsOutDir, emdbId + '.map')\n",
    "    logger.info(\"Trying to download emdb %s to %s\" % (emdbId, outName))\n",
    "    if not os.path.isfile(outName):\n",
    "        emd, num = emdbId.split(\"-\")\n",
    "        cmd = ('wget -qO- ' + EMDB_DONWLOAD_QUERY + ' --timeout=' +str(TIMEOUT_TIME)+\n",
    "               '  | zcat  > %s') % (emdbId, num, outName + \".tmp\")\n",
    "        logger.info(cmd)\n",
    "        p = Popen(cmd, stdin=PIPE, stdout=PIPE, stderr=PIPE, shell=True, executable=\"/bin/bash\")\n",
    "        out = p.communicate()\n",
    "        if len(out[1]) > 0:\n",
    "            logger.error(out)\n",
    "            tryToRemove(outName + \".tmp\")\n",
    "            msg = \"Error downloading (wget) emdbId %s to %s. %s\" % (emdbId, outName, out)\n",
    "            raise DownloadException(msg)\n",
    "        os.rename(outName + \".tmp\", outName)\n",
    "    else:\n",
    "        logger.warn(\"Already downloaded emdbId %s ->%s \" % (emdbId, outName))\n",
    "\n",
    "    return outName\n",
    "\n",
    "@retry_decorator\n",
    "def downloadEMDB_halfMaps(emdbId, mapsOutDir, onlyAverage=False):\n",
    "    outName = os.path.join(mapsOutDir, emdbId + '.map')\n",
    "    logger.info(\"Trying to download emdbID %s to %s\" % (emdbId, outName))\n",
    "    halfFnames = []\n",
    "    if not os.path.isfile(outName):\n",
    "        try:\n",
    "            time.sleep(random.randint(0,TIMEOUT_TIME))\n",
    "            ftp = ftplib.FTP(EMDB_FTP_SERVER)\n",
    "            ftp.login()\n",
    "            try:\n",
    "                ftp.cwd(EMDB_FTP_DIR % emdbId)\n",
    "            except ftplib.all_errors as e:\n",
    "                msg = f\"FTTP error for {emdbId}. It probabaly does not contain half-maps: \" + str(e)\n",
    "                logger.error(msg)\n",
    "                raise DownloadException(msg)\n",
    "            fnames = ftp.nlst()\n",
    "            half_names_inServer = [None, None]\n",
    "            logger.info(\"Downaloading half maps: \"+ \" \"+\" \".join(fnames))\n",
    "            for fname in fnames:\n",
    "                match_objs = re.match(\".*half[-_\\.]*(map_?)*([12])\", fname)\n",
    "                if match_objs:\n",
    "                    half_names_inServer[int(match_objs.group(2)) - 1] = fname\n",
    "            logger.info(half_names_inServer)\n",
    "            if None in half_names_inServer:\n",
    "                raise DownloadException(f\"Error, half map not available for {emdbId}\")\n",
    "            tmp_halfs = []\n",
    "            tmp_half_name = None\n",
    "            for halfNum in range(1, 3):\n",
    "                try:\n",
    "                    tmp_half_name = outName + \"_half_%d.tmp.mrc\" % halfNum\n",
    "                    tmp_halfs.append(tmp_half_name)\n",
    "                    with  BytesIO() as flo:\n",
    "                        ftp.retrbinary('RETR ' + half_names_inServer[halfNum - 1], flo.write)\n",
    "                        flo.seek(0)\n",
    "                        with open(tmp_half_name, 'wb') as fout, gzip.GzipFile(fileobj=flo) as fgzip:\n",
    "                            shutil.copyfileobj(fgzip, fout)\n",
    "                except ftplib.all_errors as e:\n",
    "                    logger.error(f\"FTTP error for {emdbId}: \"+str(e))\n",
    "                    raise e\n",
    "                    # if tmp_half_name:\n",
    "                    #     tryToRemove(tmp_half_name)\n",
    "                    # msg = \"Error downloading emdbId %s to %s: %s\" % (emdbId, outName, str(e))\n",
    "                    # raise DownloadException(msg)\n",
    "        except ftplib.all_errors as e:\n",
    "            logger.error(f\"FTTP error for {emdbId}: \" + str(e))\n",
    "            raise e\n",
    "            # msg = \"Error downloading emdbId %s to %s: %s\" % (emdbId, outName, str(e))\n",
    "            # raise DownloadException(msg)\n",
    "\n",
    "        data = loadVol(tmp_halfs[0])[0]\n",
    "        data += loadVol(tmp_halfs[1])[0]\n",
    "        data /= 2.\n",
    "        saveVol(outName, data, fname_headerLike=tmp_halfs[0])\n",
    "        if onlyAverage:\n",
    "            for tmp_half_name in tmp_halfs:\n",
    "                tryToRemove(tmp_half_name)\n",
    "        else:\n",
    "            for tmp_half_name in tmp_halfs:\n",
    "                new_fname = tmp_half_name.replace(\".tmp\", \"\")\n",
    "                os.rename(tmp_half_name, new_fname)\n",
    "                halfFnames.append(new_fname)\n",
    "    else:\n",
    "        logger.warn(\"Already downloaded emdbId %s ->%s \" % (emdbId, outName))\n",
    "\n",
    "    return outName, halfFnames"
   ]
  }
 ],
 "metadata": {
  "kernelspec": {
   "display_name": "Python 3.7.3 64-bit",
   "language": "python",
   "name": "python3"
  },
  "language_info": {
   "codemirror_mode": {
    "name": "ipython",
    "version": 3
   },
   "file_extension": ".py",
   "mimetype": "text/x-python",
   "name": "python",
   "nbconvert_exporter": "python",
   "pygments_lexer": "ipython3",
   "version": "3.9.13"
  },
  "toc": {
   "base_numbering": 1,
   "nav_menu": {},
   "number_sections": true,
   "sideBar": true,
   "skip_h1_title": false,
   "title_cell": "Table of Contents",
   "title_sidebar": "Contents",
   "toc_cell": false,
   "toc_position": {},
   "toc_section_display": true,
   "toc_window_display": false
  },
  "vscode": {
   "interpreter": {
    "hash": "31f2aee4e71d21fbe5cf8b01ff0e069b9275f58929596ceb00d14d90e3e16cd6"
   }
  }
 },
 "nbformat": 4,
 "nbformat_minor": 5
}
